{
 "cells": [
  {
   "cell_type": "markdown",
   "metadata": {},
   "source": [
    "# Emotion classification using BalanceNet"
   ]
  },
  {
   "cell_type": "code",
   "execution_count": 1,
   "metadata": {},
   "outputs": [],
   "source": [
    "import csv\n",
    "import numpy as np\n",
    "import pandas as pd\n",
    "import re, sys, os, csv, keras, pickle\n",
    "from keras import regularizers, initializers, optimizers, callbacks\n",
    "from keras.preprocessing.text import Tokenizer\n",
    "from keras.preprocessing.sequence import pad_sequences\n",
    "from keras.utils.np_utils import to_categorical\n",
    "from keras.layers import Embedding\n",
    "from keras.layers import Dense, Input, Flatten, Concatenate\n",
    "from keras.layers import Conv1D, MaxPooling1D, Embedding, Dropout, LSTM, GRU, Bidirectional\n",
    "from keras.models import Model\n",
    "from keras import backend as K\n",
    "import tensorflow as tf\n",
    "from keras.models import load_model\n",
    "from sklearn.metrics import classification_report, confusion_matrix\n",
    "import matplotlib.pyplot as plt\n",
    "import numpy as np\n",
    "import itertools"
   ]
  },
  {
   "cell_type": "code",
   "execution_count": 2,
   "metadata": {},
   "outputs": [],
   "source": [
    "MAX_NB_WORDS = 40000\n",
    "MAX_SEQUENCE_LENGTH = 30\n",
    "VALIDATION_SPLIT = 0.2\n",
    "EMBEDDING_DIM = 200\n",
    "GLOVE_DIR = \"dataset/glove/glove.twitter.27B.200d.txt\""
   ]
  },
  {
   "cell_type": "markdown",
   "metadata": {},
   "source": [
    "## Utility functions"
   ]
  },
  {
   "cell_type": "code",
   "execution_count": 3,
   "metadata": {},
   "outputs": [],
   "source": [
    "def get_lr_metric(optimizer):\n",
    "    def lr(y_true, y_pred):\n",
    "        return optimizer.lr\n",
    "    return lr"
   ]
  },
  {
   "cell_type": "code",
   "execution_count": 4,
   "metadata": {},
   "outputs": [],
   "source": [
    "def initial_boost(epoch):\n",
    "    if epoch==0: return float(8.0)\n",
    "    elif epoch==1: return float(4.0)\n",
    "    elif epoch==2: return float(2.0)\n",
    "    elif epoch==3: return float(1.5)\n",
    "    else: return float(1.0)"
   ]
  },
  {
   "cell_type": "code",
   "execution_count": 5,
   "metadata": {},
   "outputs": [],
   "source": [
    "def read_csv(file, lst, cats):\n",
    "    with open(file, newline='') as f:\n",
    "        reader = csv.reader(f)\n",
    "        for i,row in enumerate(reader):\n",
    "            cat = row[1]\n",
    "            lst.append(row[0])\n",
    "            cats.append(int(row[1]))"
   ]
  },
  {
   "cell_type": "code",
   "execution_count": 6,
   "metadata": {},
   "outputs": [],
   "source": [
    "data = []\n",
    "cats = []\n",
    "read_csv(\"csv_files/data.csv\", data, cats)"
   ]
  },
  {
   "cell_type": "code",
   "execution_count": 7,
   "metadata": {},
   "outputs": [],
   "source": [
    "texts, labels = [], []\n",
    "with open('csv_files/data.csv') as csvfile:\n",
    "    readCSV = csv.reader(csvfile, delimiter=',')\n",
    "    for row in readCSV:\n",
    "        texts.append(row[0])\n",
    "        labels.append(row[1])"
   ]
  },
  {
   "cell_type": "code",
   "execution_count": 8,
   "metadata": {},
   "outputs": [],
   "source": [
    "with open('tokenizer.pickle', 'rb') as handle:\n",
    "    tokenizer = pickle.load(handle)"
   ]
  },
  {
   "cell_type": "code",
   "execution_count": 9,
   "metadata": {},
   "outputs": [],
   "source": [
    "sequences = tokenizer.texts_to_sequences(texts)\n",
    "word_index = tokenizer.word_index\n",
    "data_int = pad_sequences(sequences, padding='pre', maxlen=(MAX_SEQUENCE_LENGTH-5))\n",
    "data = pad_sequences(data_int, padding='post', maxlen=(MAX_SEQUENCE_LENGTH))"
   ]
  },
  {
   "cell_type": "code",
   "execution_count": 10,
   "metadata": {},
   "outputs": [],
   "source": [
    "labels = to_categorical(np.asarray(labels)) # convert to one-hot encoding vectors\n",
    "\n",
    "indices = np.arange(data.shape[0])\n",
    "np.random.shuffle(indices)\n",
    "data = data[indices]\n",
    "labels = labels[indices]\n",
    "nb_validation_samples = int(VALIDATION_SPLIT * data.shape[0])\n",
    "\n",
    "x_train = data[:-nb_validation_samples]\n",
    "y_train = labels[:-nb_validation_samples]\n",
    "x_val = data[-nb_validation_samples:]\n",
    "y_val = labels[-nb_validation_samples:]"
   ]
  },
  {
   "cell_type": "markdown",
   "metadata": {},
   "source": [
    "## Embeddings"
   ]
  },
  {
   "cell_type": "code",
   "execution_count": 11,
   "metadata": {},
   "outputs": [],
   "source": [
    "embeddings_index = {}\n",
    "f = open(GLOVE_DIR, encoding='utf-8')\n",
    "for line in f:\n",
    "    values = line.split()\n",
    "    word = values[0]\n",
    "    embeddings_index[word] = np.asarray(values[1:], dtype='float32')\n",
    "f.close()\n",
    "embedding_matrix = np.random.random((len(word_index) + 1, EMBEDDING_DIM))\n",
    "for word, i in word_index.items():\n",
    "    embedding_vector = embeddings_index.get(word)\n",
    "    if embedding_vector is not None:\n",
    "        # words not found in embedding index will be all-zeros.\n",
    "        embedding_matrix[i] = embedding_vector"
   ]
  },
  {
   "cell_type": "code",
   "execution_count": 12,
   "metadata": {},
   "outputs": [],
   "source": [
    "dataWriter = csv.writer(open('csv_files/data_merged.csv', 'w'), delimiter=',',lineterminator=\"\\n\")\n",
    "for n,point in enumerate(data):\n",
    "    category = cats[n]\n",
    "    is_happy = category == 3 or category == 5 or category == 6 or category == 7 or category == 9 or category == 11 \n",
    "    is_neutral = category == 0 or category == 1 or  category == 10\n",
    "    is_sad = category == 2 or category == 4\n",
    "    if is_happy:\n",
    "        dataWriter.writerow([point, 1])\n",
    "    elif is_neutral:\n",
    "        dataWriter.writerow([point, 0])\n",
    "    elif is_sad:\n",
    "        dataWriter.writerow([point, 2])\n",
    "    elif category == 8:\n",
    "        dataWriter.writerow([point, 3])\n",
    "    elif category == 12:\n",
    "        dataWriter.writerow([point, 4])\n",
    "    else:\n",
    "        print(point,n)"
   ]
  },
  {
   "cell_type": "code",
   "execution_count": 13,
   "metadata": {},
   "outputs": [
    {
     "data": {
      "text/plain": [
       "47266"
      ]
     },
     "execution_count": 13,
     "metadata": {},
     "output_type": "execute_result"
    }
   ],
   "source": [
    "count = 0\n",
    "with open('csv_files/data_merged.csv') as csvfile:\n",
    "    readCSV = csv.reader(csvfile, delimiter=',')\n",
    "    for row in readCSV:\n",
    "        count+=1\n",
    "        \n",
    "count"
   ]
  },
  {
   "cell_type": "code",
   "execution_count": 14,
   "metadata": {},
   "outputs": [],
   "source": [
    "# second embedding matrix for non-static channel\n",
    "embedding_matrix_ns = np.random.random((len(word_index) + 1, EMBEDDING_DIM))\n",
    "for word, i in word_index.items():\n",
    "    embedding_vector = embeddings_index.get(word)\n",
    "    if embedding_vector is not None:\n",
    "        # words not found in embedding index will be all-zeros.\n",
    "        embedding_matrix_ns[i] = embedding_vector"
   ]
  },
  {
   "cell_type": "code",
   "execution_count": 15,
   "metadata": {},
   "outputs": [],
   "source": [
    "sequence_input = Input(shape=(MAX_SEQUENCE_LENGTH,), dtype='int32')\n",
    "\n",
    "# static channel\n",
    "embedding_layer_frozen = Embedding(len(word_index) + 1,\n",
    "                            EMBEDDING_DIM,\n",
    "                            weights=[embedding_matrix],\n",
    "                            input_length=MAX_SEQUENCE_LENGTH,\n",
    "                            trainable=False)\n",
    "embedded_sequences_frozen = embedding_layer_frozen(sequence_input)\n",
    "\n",
    "# non-static channel\n",
    "embedding_layer_train = Embedding(len(word_index) + 1,\n",
    "                            EMBEDDING_DIM,\n",
    "                            weights=[embedding_matrix_ns],\n",
    "                            input_length=MAX_SEQUENCE_LENGTH,\n",
    "                            trainable=True)\n",
    "embedded_sequences_train = embedding_layer_train(sequence_input)"
   ]
  },
  {
   "cell_type": "markdown",
   "metadata": {},
   "source": [
    "First Half: LSTM > CNN"
   ]
  },
  {
   "cell_type": "code",
   "execution_count": 16,
   "metadata": {},
   "outputs": [],
   "source": [
    "l_lstm1f = Bidirectional(LSTM(6,return_sequences=True,dropout=0.3, recurrent_dropout=0.0))(embedded_sequences_frozen)\n",
    "l_lstm1t = Bidirectional(LSTM(6,return_sequences=True,dropout=0.3, recurrent_dropout=0.0))(embedded_sequences_train)\n",
    "l_lstm1 = Concatenate(axis=1)([l_lstm1f, l_lstm1t])"
   ]
  },
  {
   "cell_type": "code",
   "execution_count": 17,
   "metadata": {},
   "outputs": [],
   "source": [
    "l_conv_2 = Conv1D(filters=24,kernel_size=2,activation='relu')(l_lstm1)\n",
    "l_conv_2 = Dropout(0.3)(l_conv_2)\n",
    "l_conv_3 = Conv1D(filters=24,kernel_size=3,activation='relu')(l_lstm1)\n",
    "l_conv_3 = Dropout(0.3)(l_conv_3)\n",
    "\n",
    "l_conv_5 = Conv1D(filters=24,kernel_size=5,activation='relu',)(l_lstm1)\n",
    "l_conv_5 = Dropout(0.3)(l_conv_5)\n",
    "l_conv_6 = Conv1D(filters=24,kernel_size=6,activation='relu',kernel_regularizer=regularizers.l2(0.0001))(l_lstm1)\n",
    "l_conv_6 = Dropout(0.3)(l_conv_6)\n",
    "\n",
    "l_conv_8 = Conv1D(filters=24,kernel_size=8,activation='relu',kernel_regularizer=regularizers.l2(0.0001))(l_lstm1)\n",
    "l_conv_8 = Dropout(0.3)(l_conv_8)\n",
    "\n",
    "conv_1 = [l_conv_6,l_conv_5, l_conv_8,l_conv_2,l_conv_3]\n",
    "\n",
    "l_lstm_c = Concatenate(axis=1)(conv_1)"
   ]
  },
  {
   "cell_type": "markdown",
   "metadata": {},
   "source": [
    "Second Half: CNN > LSTM"
   ]
  },
  {
   "cell_type": "code",
   "execution_count": 18,
   "metadata": {},
   "outputs": [],
   "source": [
    "l_conv_4f = Conv1D(filters=12,kernel_size=4,activation='relu',kernel_regularizer=regularizers.l2(0.0001))(embedded_sequences_frozen)\n",
    "l_conv_4f = Dropout(0.3)(l_conv_4f)\n",
    "l_conv_4t = Conv1D(filters=12,kernel_size=4,activation='relu',kernel_regularizer=regularizers.l2(0.0001))(embedded_sequences_train)\n",
    "l_conv_4t = Dropout(0.3)(l_conv_4t)\n",
    "\n",
    "l_conv_3f = Conv1D(filters=12,kernel_size=3,activation='relu',)(embedded_sequences_frozen)\n",
    "l_conv_3f = Dropout(0.3)(l_conv_3f)\n",
    "l_conv_3t = Conv1D(filters=12,kernel_size=3,activation='relu',)(embedded_sequences_train)\n",
    "l_conv_3t = Dropout(0.3)(l_conv_3t)\n",
    "\n",
    "l_conv_2f = Conv1D(filters=12,kernel_size=2,activation='relu')(embedded_sequences_frozen)\n",
    "l_conv_2f = Dropout(0.3)(l_conv_2f)\n",
    "l_conv_2t = Conv1D(filters=12,kernel_size=2,activation='relu')(embedded_sequences_train)\n",
    "l_conv_2t = Dropout(0.3)(l_conv_2t)\n",
    "\n",
    "conv_2 = [l_conv_4f, l_conv_4t,l_conv_3f, l_conv_3t, l_conv_2f, l_conv_2t]\n",
    "\n",
    "l_merge_2 = Concatenate(axis=1)(conv_2)\n",
    "l_c_lstm = Bidirectional(LSTM(12,return_sequences=True,dropout=0.3, recurrent_dropout=0.0))(l_merge_2)"
   ]
  },
  {
   "cell_type": "markdown",
   "metadata": {},
   "source": [
    "Combine both halfs of the model"
   ]
  },
  {
   "cell_type": "code",
   "execution_count": 19,
   "metadata": {},
   "outputs": [],
   "source": [
    "l_merge = Concatenate(axis=1)([l_lstm_c, l_c_lstm])\n",
    "l_pool = MaxPooling1D(4)(l_merge)\n",
    "l_drop = Dropout(0.5)(l_pool)\n",
    "l_flat = Flatten()(l_drop)\n",
    "l_dense = Dense(26, activation='relu')(l_flat)\n",
    "preds = Dense(5, activation='softmax')(l_dense)"
   ]
  },
  {
   "cell_type": "code",
   "execution_count": 20,
   "metadata": {},
   "outputs": [],
   "source": [
    "model = Model(sequence_input, preds)\n",
    "adadelta = tf.keras.optimizers.Adadelta(learning_rate=0.9, rho=0.95, epsilon=None, decay=0.002)\n",
    "lr_metric = get_lr_metric(adadelta)\n",
    "model.compile(loss='categorical_crossentropy',\n",
    "              optimizer=adadelta,\n",
    "              metrics=['accuracy'])"
   ]
  },
  {
   "cell_type": "code",
   "execution_count": 21,
   "metadata": {},
   "outputs": [
    {
     "name": "stdout",
     "output_type": "stream",
     "text": [
      "WARNING:tensorflow:`write_grads` will be ignored in TensorFlow 2.0 for the `TensorBoard` Callback.\n",
      "WARNING:tensorflow:`batch_size` is no longer needed in the `TensorBoard` Callback and will be ignored in TensorFlow 2.0.\n",
      "WARNING:tensorflow:`period` argument is deprecated. Please use `save_freq` to specify the frequency in number of batches seen.\n"
     ]
    }
   ],
   "source": [
    "tensorboard = callbacks.TensorBoard(log_dir='./logs', histogram_freq=0, batch_size=16, write_grads=True , write_graph=True)\n",
    "model_checkpoints = callbacks.ModelCheckpoint(\"checkpoint/checkpoint-{val_loss:.3f}.h5\", monitor='val_loss', verbose=0, save_best_only=True, save_weights_only=False, mode='auto', period=0)\n",
    "lr_schedule = callbacks.LearningRateScheduler(initial_boost)"
   ]
  },
  {
   "cell_type": "code",
   "execution_count": 22,
   "metadata": {},
   "outputs": [
    {
     "name": "stdout",
     "output_type": "stream",
     "text": [
      "Model: \"model\"\n",
      "__________________________________________________________________________________________________\n",
      " Layer (type)                   Output Shape         Param #     Connected to                     \n",
      "==================================================================================================\n",
      " input_1 (InputLayer)           [(None, 30)]         0           []                               \n",
      "                                                                                                  \n",
      " embedding (Embedding)          (None, 30, 200)      6872000     ['input_1[0][0]']                \n",
      "                                                                                                  \n",
      " embedding_1 (Embedding)        (None, 30, 200)      6872000     ['input_1[0][0]']                \n",
      "                                                                                                  \n",
      " bidirectional (Bidirectional)  (None, 30, 12)       9936        ['embedding[0][0]']              \n",
      "                                                                                                  \n",
      " bidirectional_1 (Bidirectional  (None, 30, 12)      9936        ['embedding_1[0][0]']            \n",
      " )                                                                                                \n",
      "                                                                                                  \n",
      " concatenate (Concatenate)      (None, 60, 12)       0           ['bidirectional[0][0]',          \n",
      "                                                                  'bidirectional_1[0][0]']        \n",
      "                                                                                                  \n",
      " conv1d_5 (Conv1D)              (None, 27, 12)       9612        ['embedding[0][0]']              \n",
      "                                                                                                  \n",
      " conv1d_6 (Conv1D)              (None, 27, 12)       9612        ['embedding_1[0][0]']            \n",
      "                                                                                                  \n",
      " conv1d_7 (Conv1D)              (None, 28, 12)       7212        ['embedding[0][0]']              \n",
      "                                                                                                  \n",
      " conv1d_8 (Conv1D)              (None, 28, 12)       7212        ['embedding_1[0][0]']            \n",
      "                                                                                                  \n",
      " conv1d_9 (Conv1D)              (None, 29, 12)       4812        ['embedding[0][0]']              \n",
      "                                                                                                  \n",
      " conv1d_10 (Conv1D)             (None, 29, 12)       4812        ['embedding_1[0][0]']            \n",
      "                                                                                                  \n",
      " conv1d_3 (Conv1D)              (None, 55, 24)       1752        ['concatenate[0][0]']            \n",
      "                                                                                                  \n",
      " conv1d_2 (Conv1D)              (None, 56, 24)       1464        ['concatenate[0][0]']            \n",
      "                                                                                                  \n",
      " conv1d_4 (Conv1D)              (None, 53, 24)       2328        ['concatenate[0][0]']            \n",
      "                                                                                                  \n",
      " conv1d (Conv1D)                (None, 59, 24)       600         ['concatenate[0][0]']            \n",
      "                                                                                                  \n",
      " conv1d_1 (Conv1D)              (None, 58, 24)       888         ['concatenate[0][0]']            \n",
      "                                                                                                  \n",
      " dropout_5 (Dropout)            (None, 27, 12)       0           ['conv1d_5[0][0]']               \n",
      "                                                                                                  \n",
      " dropout_6 (Dropout)            (None, 27, 12)       0           ['conv1d_6[0][0]']               \n",
      "                                                                                                  \n",
      " dropout_7 (Dropout)            (None, 28, 12)       0           ['conv1d_7[0][0]']               \n",
      "                                                                                                  \n",
      " dropout_8 (Dropout)            (None, 28, 12)       0           ['conv1d_8[0][0]']               \n",
      "                                                                                                  \n",
      " dropout_9 (Dropout)            (None, 29, 12)       0           ['conv1d_9[0][0]']               \n",
      "                                                                                                  \n",
      " dropout_10 (Dropout)           (None, 29, 12)       0           ['conv1d_10[0][0]']              \n",
      "                                                                                                  \n",
      " dropout_3 (Dropout)            (None, 55, 24)       0           ['conv1d_3[0][0]']               \n",
      "                                                                                                  \n",
      " dropout_2 (Dropout)            (None, 56, 24)       0           ['conv1d_2[0][0]']               \n",
      "                                                                                                  \n",
      " dropout_4 (Dropout)            (None, 53, 24)       0           ['conv1d_4[0][0]']               \n",
      "                                                                                                  \n",
      " dropout (Dropout)              (None, 59, 24)       0           ['conv1d[0][0]']                 \n",
      "                                                                                                  \n",
      " dropout_1 (Dropout)            (None, 58, 24)       0           ['conv1d_1[0][0]']               \n",
      "                                                                                                  \n",
      " concatenate_2 (Concatenate)    (None, 168, 12)      0           ['dropout_5[0][0]',              \n",
      "                                                                  'dropout_6[0][0]',              \n",
      "                                                                  'dropout_7[0][0]',              \n",
      "                                                                  'dropout_8[0][0]',              \n",
      "                                                                  'dropout_9[0][0]',              \n",
      "                                                                  'dropout_10[0][0]']             \n",
      "                                                                                                  \n",
      " concatenate_1 (Concatenate)    (None, 281, 24)      0           ['dropout_3[0][0]',              \n",
      "                                                                  'dropout_2[0][0]',              \n",
      "                                                                  'dropout_4[0][0]',              \n",
      "                                                                  'dropout[0][0]',                \n",
      "                                                                  'dropout_1[0][0]']              \n",
      "                                                                                                  \n",
      " bidirectional_2 (Bidirectional  (None, 168, 24)     2400        ['concatenate_2[0][0]']          \n",
      " )                                                                                                \n",
      "                                                                                                  \n",
      " concatenate_3 (Concatenate)    (None, 449, 24)      0           ['concatenate_1[0][0]',          \n",
      "                                                                  'bidirectional_2[0][0]']        \n",
      "                                                                                                  \n",
      " max_pooling1d (MaxPooling1D)   (None, 112, 24)      0           ['concatenate_3[0][0]']          \n",
      "                                                                                                  \n",
      " dropout_11 (Dropout)           (None, 112, 24)      0           ['max_pooling1d[0][0]']          \n"
     ]
    },
    {
     "name": "stdout",
     "output_type": "stream",
     "text": [
      "                                                                                                  \n",
      " flatten (Flatten)              (None, 2688)         0           ['dropout_11[0][0]']             \n",
      "                                                                                                  \n",
      " dense (Dense)                  (None, 26)           69914       ['flatten[0][0]']                \n",
      "                                                                                                  \n",
      " dense_1 (Dense)                (None, 5)            135         ['dense[0][0]']                  \n",
      "                                                                                                  \n",
      "==================================================================================================\n",
      "Total params: 13,886,625\n",
      "Trainable params: 7,014,625\n",
      "Non-trainable params: 6,872,000\n",
      "__________________________________________________________________________________________________\n"
     ]
    }
   ],
   "source": [
    "model.summary()"
   ]
  },
  {
   "cell_type": "code",
   "execution_count": 23,
   "metadata": {},
   "outputs": [
    {
     "name": "stdout",
     "output_type": "stream",
     "text": [
      "Epoch 1/100\n",
      "296/296 [==============================] - 29s 52ms/step - loss: 1.2048 - accuracy: 0.4785 - val_loss: 1.0801 - val_accuracy: 0.5489\n",
      "Epoch 2/100\n",
      "296/296 [==============================] - 13s 44ms/step - loss: 1.0323 - accuracy: 0.5721 - val_loss: 0.9786 - val_accuracy: 0.5981\n",
      "Epoch 3/100\n",
      "296/296 [==============================] - 14s 48ms/step - loss: 0.9833 - accuracy: 0.5956 - val_loss: 0.9560 - val_accuracy: 0.6100\n",
      "Epoch 4/100\n",
      "296/296 [==============================] - 14s 46ms/step - loss: 0.9558 - accuracy: 0.6061 - val_loss: 0.9439 - val_accuracy: 0.6143\n",
      "Epoch 5/100\n",
      "296/296 [==============================] - 15s 51ms/step - loss: 0.9413 - accuracy: 0.6137 - val_loss: 0.9427 - val_accuracy: 0.6141\n",
      "Epoch 6/100\n",
      "296/296 [==============================] - 14s 46ms/step - loss: 0.9328 - accuracy: 0.6169 - val_loss: 0.9297 - val_accuracy: 0.6194\n",
      "Epoch 7/100\n",
      "296/296 [==============================] - 14s 46ms/step - loss: 0.9221 - accuracy: 0.6239 - val_loss: 0.9248 - val_accuracy: 0.6211\n",
      "Epoch 8/100\n",
      "296/296 [==============================] - 13s 44ms/step - loss: 0.9163 - accuracy: 0.6259 - val_loss: 0.9243 - val_accuracy: 0.6214\n",
      "Epoch 9/100\n",
      "296/296 [==============================] - 13s 45ms/step - loss: 0.9111 - accuracy: 0.6283 - val_loss: 0.9206 - val_accuracy: 0.6219\n",
      "Epoch 10/100\n",
      "296/296 [==============================] - 14s 46ms/step - loss: 0.9061 - accuracy: 0.6279 - val_loss: 0.9165 - val_accuracy: 0.6219\n",
      "Epoch 11/100\n",
      "296/296 [==============================] - 13s 45ms/step - loss: 0.9007 - accuracy: 0.6324 - val_loss: 0.9125 - val_accuracy: 0.6249\n",
      "Epoch 12/100\n",
      "296/296 [==============================] - 13s 42ms/step - loss: 0.8980 - accuracy: 0.6317 - val_loss: 0.9143 - val_accuracy: 0.6253\n",
      "Epoch 13/100\n",
      "296/296 [==============================] - 12s 42ms/step - loss: 0.8962 - accuracy: 0.6353 - val_loss: 0.9138 - val_accuracy: 0.6240\n",
      "Epoch 14/100\n",
      "296/296 [==============================] - 13s 45ms/step - loss: 0.8910 - accuracy: 0.6358 - val_loss: 0.9101 - val_accuracy: 0.6246\n",
      "Epoch 15/100\n",
      "296/296 [==============================] - 13s 42ms/step - loss: 0.8884 - accuracy: 0.6373 - val_loss: 0.9119 - val_accuracy: 0.6264\n",
      "Epoch 16/100\n",
      "296/296 [==============================] - 13s 42ms/step - loss: 0.8848 - accuracy: 0.6389 - val_loss: 0.9109 - val_accuracy: 0.6243\n",
      "Epoch 17/100\n",
      "296/296 [==============================] - 13s 42ms/step - loss: 0.8830 - accuracy: 0.6411 - val_loss: 0.9110 - val_accuracy: 0.6273\n",
      "Epoch 18/100\n",
      "296/296 [==============================] - 13s 45ms/step - loss: 0.8813 - accuracy: 0.6415 - val_loss: 0.9072 - val_accuracy: 0.6264\n",
      "Epoch 19/100\n",
      "296/296 [==============================] - 12s 42ms/step - loss: 0.8781 - accuracy: 0.6432 - val_loss: 0.9103 - val_accuracy: 0.6272\n",
      "Epoch 20/100\n",
      "296/296 [==============================] - 12s 42ms/step - loss: 0.8779 - accuracy: 0.6420 - val_loss: 0.9113 - val_accuracy: 0.6268\n",
      "Epoch 21/100\n",
      "296/296 [==============================] - 13s 43ms/step - loss: 0.8723 - accuracy: 0.6445 - val_loss: 0.9080 - val_accuracy: 0.6261\n",
      "Epoch 22/100\n",
      "296/296 [==============================] - 12s 42ms/step - loss: 0.8708 - accuracy: 0.6439 - val_loss: 0.9082 - val_accuracy: 0.6257\n",
      "Epoch 23/100\n",
      "296/296 [==============================] - 13s 42ms/step - loss: 0.8718 - accuracy: 0.6458 - val_loss: 0.9072 - val_accuracy: 0.6281\n",
      "Epoch 24/100\n",
      "296/296 [==============================] - 14s 48ms/step - loss: 0.8676 - accuracy: 0.6477 - val_loss: 0.9070 - val_accuracy: 0.6277\n",
      "Epoch 25/100\n",
      "296/296 [==============================] - 15s 50ms/step - loss: 0.8658 - accuracy: 0.6494 - val_loss: 0.9065 - val_accuracy: 0.6253\n",
      "Epoch 26/100\n",
      "296/296 [==============================] - 13s 43ms/step - loss: 0.8655 - accuracy: 0.6480 - val_loss: 0.9070 - val_accuracy: 0.6254\n",
      "Epoch 27/100\n",
      "296/296 [==============================] - 18s 60ms/step - loss: 0.8616 - accuracy: 0.6484 - val_loss: 0.9028 - val_accuracy: 0.6279\n",
      "Epoch 28/100\n",
      "296/296 [==============================] - 13s 42ms/step - loss: 0.8586 - accuracy: 0.6503 - val_loss: 0.9068 - val_accuracy: 0.6274\n",
      "Epoch 29/100\n",
      "296/296 [==============================] - 13s 43ms/step - loss: 0.8612 - accuracy: 0.6498 - val_loss: 0.9068 - val_accuracy: 0.6282\n",
      "Epoch 30/100\n",
      "296/296 [==============================] - 13s 44ms/step - loss: 0.8574 - accuracy: 0.6514 - val_loss: 0.9040 - val_accuracy: 0.6286\n",
      "Epoch 31/100\n",
      "296/296 [==============================] - 14s 49ms/step - loss: 0.8578 - accuracy: 0.6514 - val_loss: 0.9039 - val_accuracy: 0.6281\n",
      "Epoch 32/100\n",
      "296/296 [==============================] - 13s 45ms/step - loss: 0.8563 - accuracy: 0.6521 - val_loss: 0.9053 - val_accuracy: 0.6268\n",
      "Epoch 33/100\n",
      "296/296 [==============================] - 13s 44ms/step - loss: 0.8558 - accuracy: 0.6531 - val_loss: 0.9060 - val_accuracy: 0.6297\n",
      "Epoch 34/100\n",
      "296/296 [==============================] - 13s 43ms/step - loss: 0.8518 - accuracy: 0.6548 - val_loss: 0.9056 - val_accuracy: 0.6263\n",
      "Epoch 35/100\n",
      "296/296 [==============================] - 13s 42ms/step - loss: 0.8521 - accuracy: 0.6553 - val_loss: 0.9075 - val_accuracy: 0.6239\n",
      "Epoch 36/100\n",
      "296/296 [==============================] - 12s 42ms/step - loss: 0.8497 - accuracy: 0.6556 - val_loss: 0.9057 - val_accuracy: 0.6254\n",
      "Epoch 37/100\n",
      "296/296 [==============================] - 12s 42ms/step - loss: 0.8518 - accuracy: 0.6535 - val_loss: 0.9050 - val_accuracy: 0.6247\n",
      "Epoch 38/100\n",
      "296/296 [==============================] - 14s 46ms/step - loss: 0.8484 - accuracy: 0.6562 - val_loss: 0.9057 - val_accuracy: 0.6263\n",
      "Epoch 39/100\n",
      "296/296 [==============================] - 13s 44ms/step - loss: 0.8451 - accuracy: 0.6558 - val_loss: 0.9062 - val_accuracy: 0.6261\n",
      "Epoch 40/100\n",
      "296/296 [==============================] - 13s 42ms/step - loss: 0.8443 - accuracy: 0.6565 - val_loss: 0.9044 - val_accuracy: 0.6265\n",
      "Epoch 41/100\n",
      "296/296 [==============================] - 13s 42ms/step - loss: 0.8462 - accuracy: 0.6565 - val_loss: 0.9046 - val_accuracy: 0.6251\n",
      "Epoch 42/100\n",
      "296/296 [==============================] - 13s 43ms/step - loss: 0.8439 - accuracy: 0.6567 - val_loss: 0.9045 - val_accuracy: 0.6269\n",
      "Epoch 43/100\n",
      "296/296 [==============================] - 13s 42ms/step - loss: 0.8428 - accuracy: 0.6574 - val_loss: 0.9043 - val_accuracy: 0.6280\n",
      "Epoch 44/100\n",
      "296/296 [==============================] - 13s 42ms/step - loss: 0.8438 - accuracy: 0.6587 - val_loss: 0.9049 - val_accuracy: 0.6273\n",
      "Epoch 45/100\n",
      "296/296 [==============================] - 13s 42ms/step - loss: 0.8396 - accuracy: 0.6607 - val_loss: 0.9051 - val_accuracy: 0.6290\n",
      "Epoch 46/100\n",
      "296/296 [==============================] - 13s 43ms/step - loss: 0.8406 - accuracy: 0.6581 - val_loss: 0.9036 - val_accuracy: 0.6241\n",
      "Epoch 47/100\n",
      "296/296 [==============================] - 13s 42ms/step - loss: 0.8388 - accuracy: 0.6615 - val_loss: 0.9046 - val_accuracy: 0.6266\n",
      "Epoch 48/100\n",
      "296/296 [==============================] - 13s 42ms/step - loss: 0.8383 - accuracy: 0.6580 - val_loss: 0.9065 - val_accuracy: 0.6249\n",
      "Epoch 49/100\n",
      "296/296 [==============================] - 13s 42ms/step - loss: 0.8376 - accuracy: 0.6598 - val_loss: 0.9045 - val_accuracy: 0.6265\n",
      "Epoch 50/100\n",
      "296/296 [==============================] - 13s 42ms/step - loss: 0.8359 - accuracy: 0.6628 - val_loss: 0.9041 - val_accuracy: 0.6274\n",
      "Epoch 51/100\n",
      "296/296 [==============================] - 13s 43ms/step - loss: 0.8341 - accuracy: 0.6624 - val_loss: 0.9039 - val_accuracy: 0.6254\n",
      "Epoch 52/100\n",
      "296/296 [==============================] - 13s 43ms/step - loss: 0.8360 - accuracy: 0.6572 - val_loss: 0.9038 - val_accuracy: 0.6270\n",
      "Epoch 53/100\n",
      "296/296 [==============================] - 13s 42ms/step - loss: 0.8347 - accuracy: 0.6622 - val_loss: 0.9044 - val_accuracy: 0.6264\n",
      "Epoch 54/100\n",
      "296/296 [==============================] - 13s 43ms/step - loss: 0.8332 - accuracy: 0.6621 - val_loss: 0.9040 - val_accuracy: 0.6277\n",
      "Epoch 55/100\n",
      "296/296 [==============================] - 13s 43ms/step - loss: 0.8331 - accuracy: 0.6617 - val_loss: 0.9050 - val_accuracy: 0.6253\n",
      "Epoch 56/100\n",
      "296/296 [==============================] - 13s 42ms/step - loss: 0.8325 - accuracy: 0.6641 - val_loss: 0.9045 - val_accuracy: 0.6269\n",
      "Epoch 57/100\n"
     ]
    },
    {
     "name": "stdout",
     "output_type": "stream",
     "text": [
      "296/296 [==============================] - 13s 42ms/step - loss: 0.8303 - accuracy: 0.6617 - val_loss: 0.9048 - val_accuracy: 0.6253\n",
      "Epoch 58/100\n",
      "296/296 [==============================] - 13s 42ms/step - loss: 0.8315 - accuracy: 0.6643 - val_loss: 0.9029 - val_accuracy: 0.6286\n",
      "Epoch 59/100\n",
      "296/296 [==============================] - 13s 43ms/step - loss: 0.8295 - accuracy: 0.6646 - val_loss: 0.9063 - val_accuracy: 0.6254\n",
      "Epoch 60/100\n",
      "296/296 [==============================] - 13s 42ms/step - loss: 0.8268 - accuracy: 0.6643 - val_loss: 0.9049 - val_accuracy: 0.6258\n",
      "Epoch 61/100\n",
      "296/296 [==============================] - 13s 43ms/step - loss: 0.8301 - accuracy: 0.6622 - val_loss: 0.9049 - val_accuracy: 0.6286\n",
      "Epoch 62/100\n",
      "296/296 [==============================] - 13s 43ms/step - loss: 0.8291 - accuracy: 0.6640 - val_loss: 0.9047 - val_accuracy: 0.6241\n",
      "Epoch 63/100\n",
      "296/296 [==============================] - 13s 42ms/step - loss: 0.8252 - accuracy: 0.6650 - val_loss: 0.9055 - val_accuracy: 0.6267\n",
      "Epoch 64/100\n",
      "296/296 [==============================] - 13s 42ms/step - loss: 0.8281 - accuracy: 0.6631 - val_loss: 0.9047 - val_accuracy: 0.6267\n",
      "Epoch 65/100\n",
      "296/296 [==============================] - 13s 42ms/step - loss: 0.8268 - accuracy: 0.6664 - val_loss: 0.9043 - val_accuracy: 0.6276\n",
      "Epoch 66/100\n",
      "296/296 [==============================] - 13s 42ms/step - loss: 0.8243 - accuracy: 0.6667 - val_loss: 0.9048 - val_accuracy: 0.6272\n",
      "Epoch 67/100\n",
      "296/296 [==============================] - 13s 42ms/step - loss: 0.8269 - accuracy: 0.6651 - val_loss: 0.9064 - val_accuracy: 0.6275\n",
      "Epoch 68/100\n",
      "296/296 [==============================] - 13s 43ms/step - loss: 0.8231 - accuracy: 0.6678 - val_loss: 0.9045 - val_accuracy: 0.6276\n",
      "Epoch 69/100\n",
      "296/296 [==============================] - 13s 43ms/step - loss: 0.8223 - accuracy: 0.6692 - val_loss: 0.9046 - val_accuracy: 0.6277\n",
      "Epoch 70/100\n",
      "296/296 [==============================] - 13s 43ms/step - loss: 0.8252 - accuracy: 0.6638 - val_loss: 0.9054 - val_accuracy: 0.6253\n",
      "Epoch 71/100\n",
      "296/296 [==============================] - 13s 42ms/step - loss: 0.8241 - accuracy: 0.6664 - val_loss: 0.9048 - val_accuracy: 0.6287\n",
      "Epoch 72/100\n",
      "296/296 [==============================] - 13s 42ms/step - loss: 0.8211 - accuracy: 0.6679 - val_loss: 0.9048 - val_accuracy: 0.6263\n",
      "Epoch 73/100\n",
      "296/296 [==============================] - 13s 42ms/step - loss: 0.8219 - accuracy: 0.6686 - val_loss: 0.9059 - val_accuracy: 0.6277\n",
      "Epoch 74/100\n",
      "296/296 [==============================] - 13s 42ms/step - loss: 0.8191 - accuracy: 0.6662 - val_loss: 0.9056 - val_accuracy: 0.6280\n",
      "Epoch 75/100\n",
      "296/296 [==============================] - 13s 42ms/step - loss: 0.8165 - accuracy: 0.6705 - val_loss: 0.9061 - val_accuracy: 0.6275\n",
      "Epoch 76/100\n",
      "296/296 [==============================] - 13s 42ms/step - loss: 0.8216 - accuracy: 0.6670 - val_loss: 0.9064 - val_accuracy: 0.6264\n",
      "Epoch 77/100\n",
      "296/296 [==============================] - 13s 42ms/step - loss: 0.8192 - accuracy: 0.6689 - val_loss: 0.9053 - val_accuracy: 0.6297\n",
      "Epoch 78/100\n",
      "296/296 [==============================] - 13s 43ms/step - loss: 0.8206 - accuracy: 0.6668 - val_loss: 0.9054 - val_accuracy: 0.6267\n",
      "Epoch 79/100\n",
      "296/296 [==============================] - 13s 42ms/step - loss: 0.8197 - accuracy: 0.6709 - val_loss: 0.9058 - val_accuracy: 0.6279\n",
      "Epoch 80/100\n",
      "296/296 [==============================] - 13s 43ms/step - loss: 0.8190 - accuracy: 0.6705 - val_loss: 0.9054 - val_accuracy: 0.6267\n",
      "Epoch 81/100\n",
      "296/296 [==============================] - 13s 42ms/step - loss: 0.8167 - accuracy: 0.6701 - val_loss: 0.9057 - val_accuracy: 0.6282\n",
      "Epoch 82/100\n",
      "296/296 [==============================] - 13s 43ms/step - loss: 0.8180 - accuracy: 0.6712 - val_loss: 0.9063 - val_accuracy: 0.6268\n",
      "Epoch 83/100\n",
      "296/296 [==============================] - 13s 43ms/step - loss: 0.8163 - accuracy: 0.6694 - val_loss: 0.9060 - val_accuracy: 0.6284\n",
      "Epoch 84/100\n",
      "296/296 [==============================] - 13s 42ms/step - loss: 0.8172 - accuracy: 0.6686 - val_loss: 0.9060 - val_accuracy: 0.6292\n",
      "Epoch 85/100\n",
      "296/296 [==============================] - 13s 42ms/step - loss: 0.8147 - accuracy: 0.6712 - val_loss: 0.9062 - val_accuracy: 0.6283\n",
      "Epoch 86/100\n",
      "296/296 [==============================] - 13s 42ms/step - loss: 0.8132 - accuracy: 0.6702 - val_loss: 0.9062 - val_accuracy: 0.6276\n",
      "Epoch 87/100\n",
      "296/296 [==============================] - 13s 42ms/step - loss: 0.8135 - accuracy: 0.6698 - val_loss: 0.9072 - val_accuracy: 0.6263\n",
      "Epoch 88/100\n",
      "296/296 [==============================] - 13s 42ms/step - loss: 0.8140 - accuracy: 0.6720 - val_loss: 0.9071 - val_accuracy: 0.6266\n",
      "Epoch 89/100\n",
      "296/296 [==============================] - 13s 43ms/step - loss: 0.8136 - accuracy: 0.6715 - val_loss: 0.9057 - val_accuracy: 0.6284\n",
      "Epoch 90/100\n",
      "296/296 [==============================] - 13s 42ms/step - loss: 0.8138 - accuracy: 0.6734 - val_loss: 0.9064 - val_accuracy: 0.6280\n",
      "Epoch 91/100\n",
      "296/296 [==============================] - 13s 42ms/step - loss: 0.8146 - accuracy: 0.6724 - val_loss: 0.9067 - val_accuracy: 0.6265\n",
      "Epoch 92/100\n",
      "296/296 [==============================] - 13s 42ms/step - loss: 0.8111 - accuracy: 0.6730 - val_loss: 0.9067 - val_accuracy: 0.6266\n",
      "Epoch 93/100\n",
      "296/296 [==============================] - 13s 42ms/step - loss: 0.8121 - accuracy: 0.6732 - val_loss: 0.9068 - val_accuracy: 0.6279\n",
      "Epoch 94/100\n",
      "296/296 [==============================] - 13s 42ms/step - loss: 0.8105 - accuracy: 0.6739 - val_loss: 0.9067 - val_accuracy: 0.6270\n",
      "Epoch 95/100\n",
      "296/296 [==============================] - 13s 42ms/step - loss: 0.8111 - accuracy: 0.6717 - val_loss: 0.9074 - val_accuracy: 0.6276\n",
      "Epoch 96/100\n",
      "296/296 [==============================] - 13s 42ms/step - loss: 0.8093 - accuracy: 0.6731 - val_loss: 0.9072 - val_accuracy: 0.6274\n",
      "Epoch 97/100\n",
      "296/296 [==============================] - 13s 43ms/step - loss: 0.8101 - accuracy: 0.6722 - val_loss: 0.9067 - val_accuracy: 0.6278\n",
      "Epoch 98/100\n",
      "296/296 [==============================] - 13s 43ms/step - loss: 0.8096 - accuracy: 0.6726 - val_loss: 0.9073 - val_accuracy: 0.6280\n",
      "Epoch 99/100\n",
      "296/296 [==============================] - 13s 43ms/step - loss: 0.8083 - accuracy: 0.6759 - val_loss: 0.9073 - val_accuracy: 0.6287\n",
      "Epoch 100/100\n",
      "296/296 [==============================] - 13s 43ms/step - loss: 0.8081 - accuracy: 0.6739 - val_loss: 0.9068 - val_accuracy: 0.6284\n"
     ]
    }
   ],
   "source": [
    "model_log = model.fit(x_train, y_train, validation_data=(x_val, y_val),\n",
    "          epochs=100, batch_size=128,\n",
    "          callbacks=[model_checkpoints])"
   ]
  },
  {
   "cell_type": "code",
   "execution_count": 24,
   "metadata": {},
   "outputs": [],
   "source": [
    "pd.DataFrame(model_log.history).to_csv(\"csv_files/history-balance.csv\")"
   ]
  },
  {
   "cell_type": "code",
   "execution_count": 25,
   "metadata": {},
   "outputs": [],
   "source": [
    "model.save(\"models/TrainedBalanceNet.h5\")"
   ]
  },
  {
   "cell_type": "code",
   "execution_count": 26,
   "metadata": {},
   "outputs": [
    {
     "name": "stderr",
     "output_type": "stream",
     "text": [
      "WARNING:absl:Found untraced functions such as lstm_cell_1_layer_call_fn, lstm_cell_1_layer_call_and_return_conditional_losses, lstm_cell_2_layer_call_fn, lstm_cell_2_layer_call_and_return_conditional_losses, lstm_cell_4_layer_call_fn while saving (showing 5 of 12). These functions will not be directly callable after loading.\n"
     ]
    },
    {
     "name": "stdout",
     "output_type": "stream",
     "text": [
      "INFO:tensorflow:Assets written to: C:\\Users\\Saransh\\AppData\\Local\\Temp\\tmpkkl28vhx\\assets\n"
     ]
    },
    {
     "name": "stderr",
     "output_type": "stream",
     "text": [
      "INFO:tensorflow:Assets written to: C:\\Users\\Saransh\\AppData\\Local\\Temp\\tmpkkl28vhx\\assets\n"
     ]
    },
    {
     "data": {
      "text/plain": [
       "13957512"
      ]
     },
     "execution_count": 26,
     "metadata": {},
     "output_type": "execute_result"
    }
   ],
   "source": [
    "from tensorflow import lite\n",
    "converter = lite.TFLiteConverter.from_keras_model(model)\n",
    "\n",
    "converter.optimizations = [tf.lite.Optimize.DEFAULT]\n",
    "converter.experimental_new_converter=True\n",
    "converter.target_spec.supported_ops = [tf.lite.OpsSet.TFLITE_BUILTINS,\n",
    "tf.lite.OpsSet.SELECT_TF_OPS]\n",
    "\n",
    "tfmodel = converter.convert()\n",
    "open('models/model.tflite', 'wb').write(tfmodel)"
   ]
  },
  {
   "cell_type": "markdown",
   "metadata": {},
   "source": [
    "## Model Testing and Inference"
   ]
  },
  {
   "cell_type": "code",
   "execution_count": 27,
   "metadata": {},
   "outputs": [
    {
     "data": {
      "text/plain": [
       "<matplotlib.legend.Legend at 0x1c91c793220>"
      ]
     },
     "execution_count": 27,
     "metadata": {},
     "output_type": "execute_result"
    },
    {
     "data": {
      "image/png": "[encoded data removed]",
      "text/plain": [
       "<Figure size 432x288 with 1 Axes>"
      ]
     },
     "metadata": {
      "needs_background": "light"
     },
     "output_type": "display_data"
    },
    {
     "data": {
      "image/png": "[encoded data removed]",
      "text/plain": [
       "<Figure size 432x288 with 1 Axes>"
      ]
     },
     "metadata": {
      "needs_background": "light"
     },
     "output_type": "display_data"
    }
   ],
   "source": [
    "acc = model_log.history['accuracy']\n",
    "val_acc = model_log.history['val_accuracy']\n",
    "loss = model_log.history['loss']\n",
    "val_loss = model_log.history['val_loss']\n",
    "epochs = np.arange(1, 101, 1)\n",
    "\n",
    "plt.plot(epochs, acc, label='Training accuracy')\n",
    "plt.plot(epochs, val_acc, label='Cross validation accuracy')\n",
    "plt.ylabel('Accuracy')\n",
    "plt.xlabel('Epoch')\n",
    "plt.legend()\n",
    "\n",
    "plt.figure()\n",
    "plt.plot(epochs, loss, label='Training loss')\n",
    "plt.plot(epochs, val_loss, label='Cross validation loss')\n",
    "plt.xlabel('Epoch')\n",
    "plt.ylabel('Loss')\n",
    "plt.legend()"
   ]
  },
  {
   "cell_type": "code",
   "execution_count": 28,
   "metadata": {},
   "outputs": [],
   "source": [
    "classes = [\"neutral\", \"happy\", \"sad\", \"hate\",\"anger\"]"
   ]
  },
  {
   "cell_type": "code",
   "execution_count": 29,
   "metadata": {},
   "outputs": [],
   "source": [
    "model_test = load_model('models/TrainedBalanceNet.h5')\n",
    "Y_test = np.argmax(y_val, axis=1) # Convert one-hot to index\n",
    "y_pred = model_test.predict(x_val)\n",
    "y_pred_class = np.argmax(y_pred,axis=1)\n",
    "cnf_matrix = confusion_matrix(Y_test, y_pred_class)"
   ]
  },
  {
   "cell_type": "code",
   "execution_count": 30,
   "metadata": {},
   "outputs": [
    {
     "name": "stdout",
     "output_type": "stream",
     "text": [
      "              precision    recall  f1-score   support\n",
      "\n",
      "     neutral       0.48      0.36      0.41      1964\n",
      "       happy       0.64      0.71      0.67      3207\n",
      "         sad       0.63      0.69      0.66      3191\n",
      "        hate       0.83      0.71      0.76       883\n",
      "       anger       0.86      0.69      0.76       212\n",
      "\n",
      "    accuracy                           0.63      9457\n",
      "   macro avg       0.69      0.63      0.65      9457\n",
      "weighted avg       0.62      0.63      0.62      9457\n",
      "\n"
     ]
    }
   ],
   "source": [
    "print(classification_report(Y_test, y_pred_class, target_names=classes))"
   ]
  },
  {
   "cell_type": "code",
   "execution_count": 31,
   "metadata": {},
   "outputs": [
    {
     "data": {
      "image/png": "[encoded data removed]",
      "text/plain": [
       "<Figure size 1440x720 with 2 Axes>"
      ]
     },
     "metadata": {
      "needs_background": "light"
     },
     "output_type": "display_data"
    }
   ],
   "source": [
    "def plot_confusion_matrix(cm, labels,\n",
    "                          normalize=True,\n",
    "                          title='Confusion Matrix (Validation Set)',\n",
    "                          cmap=plt.cm.Blues):\n",
    "    \"\"\"\n",
    "    This function prints and plots the confusion matrix.\n",
    "    Normalization can be applied by setting `normalize=True`.\n",
    "    \"\"\"\n",
    "    if normalize:\n",
    "        cm = cm.astype('float') / cm.sum(axis=1)[:, np.newaxis]\n",
    "    else:\n",
    "        pass\n",
    "\n",
    "    plt.imshow(cm, interpolation='nearest', cmap=cmap)\n",
    "    plt.title(title)\n",
    "    plt.colorbar()\n",
    "    tick_marks = np.arange(len(labels))\n",
    "    plt.xticks(tick_marks, labels, rotation=45)\n",
    "    plt.yticks(tick_marks, labels)\n",
    "\n",
    "    fmt = '.2f' if normalize else 'd'\n",
    "    thresh = cm.max() / 2.\n",
    "    for i, j in itertools.product(range(cm.shape[0]), range(cm.shape[1])):\n",
    "        plt.text(j, i, format(cm[i, j], fmt),\n",
    "                 horizontalalignment=\"center\",\n",
    "                 color=\"white\" if cm[i, j] > thresh else \"black\")\n",
    "\n",
    "    plt.tight_layout()\n",
    "    plt.ylabel('True label')\n",
    "    plt.xlabel('Predicted label')\n",
    "\n",
    "plt.figure(figsize=(20,10))\n",
    "plot_confusion_matrix(cnf_matrix, labels=classes)"
   ]
  }
 ],
 "metadata": {
  "kernelspec": {
   "display_name": "Python 3 (ipykernel)",
   "language": "python",
   "name": "python3"
  },
  "language_info": {
   "codemirror_mode": {
    "name": "ipython",
    "version": 3
   },
   "file_extension": ".py",
   "mimetype": "text/x-python",
   "name": "python",
   "nbconvert_exporter": "python",
   "pygments_lexer": "ipython3",
   "version": "3.9.0"
  }
 },
 "nbformat": 4,
 "nbformat_minor": 2
}
